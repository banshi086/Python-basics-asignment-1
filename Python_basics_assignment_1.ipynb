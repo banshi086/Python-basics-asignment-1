{
  "nbformat": 4,
  "nbformat_minor": 0,
  "metadata": {
    "colab": {
      "provenance": []
    },
    "kernelspec": {
      "name": "python3",
      "display_name": "Python 3"
    },
    "language_info": {
      "name": "python"
    }
  },
  "cells": [
    {
      "cell_type": "code",
      "execution_count": null,
      "metadata": {
        "id": "ivQzfv5LAZ7u"
      },
      "outputs": [],
      "source": []
    },
    {
      "cell_type": "markdown",
      "source": [
        "1-What is python and why is it popular?\n",
        "  - Python is a high-level, interpreted programming language known for its simplicity and readability. Created by Guido van Rossum in 1991, Python is widely used in various domains such as web development, data analysis, artificial intelligence, scientific computing, and more.\n",
        " 2-What is an interpreter in python\n",
        " -interpreter is a program that reads and executes Python code. Unlike compiled languages.Python uses an interpreter to process the code line-by-line.\n",
        " 3-What are pre define keywords in python\n",
        "  -pre define keywords are reserved words that have specific meanings and purposes. These keywords are part of Python's syntax and cannot be used as identifiers.\n",
        "4-can key words be used as variable names\n",
        " -No\n",
        "\n",
        "5-What is mutability in pyton\n",
        " -It can be modified after they are created.\n",
        "\n",
        "6-Why are lists mutable but tuples are immutable\n",
        " -Mutability refers to the ability of an object to be modified after it is created. Lists are mutable, meaning their content can be changed, while tuples are immutable, meaning their content cannot be changed.\n",
        "\n",
        "7-What is the difference between\"==\" and \"is\" operator in python\n",
        " -\"==\" is comparative operator\n",
        " Is-Identitity operatr\n",
        "\n",
        "8-What are logical operators in python\n",
        " -And,or,Not\n",
        "\n",
        " 9-What is typecasting in python\n",
        " -Typecasting in Python refers to the process of converting one data type into another\n",
        "\n",
        "10-What are the difference between implicity and explicity type casting.\n",
        "\n",
        " -implicit Type Casting is automatic, and Python takes care of it when it knows no data will be lost.\n",
        "\n",
        "-Explicit Type Casting is manual and is used when the programmer needs to explicitly convert one type to another using built-in functions.\n",
        "\n",
        "11-What is the purpose of conditional statements in python\n",
        "\n",
        "-The purpose of conditional statements in Python is to allow the program to make decisions based on certain conditions. They enable the program to execute different blocks of code depending on whether a condition is True or False.\n",
        "\n",
        "12-How does the elif statement works\n",
        "\n",
        " -The elif statement in Python allows you to check multiple conditions in sequence. If the if condition is False, it checks the condition in the elif block. If the elif condition is True, it executes the corresponding code.\n",
        "13-What is the different between for and while loops\n",
        "\n",
        " -the for loop is used to iterate over a sequence (like a list or range) when the number of iterations is known or fixed. It is ideal for situations where you need to loop through elements of an iterable. The while loop, on the other hand, continues as long as a specified condition is True and is used when the number of iterations is not predetermined. While the for loop works with iterables, the while loop depends on a condition that is evaluated before each iteration.\n",
        "\n",
        " 14-Describe a scenario where a while loop is more suitable than for loops.\n",
        "  -number = -1\n",
        "\n",
        "while number <= 0:\n",
        "    number = int(input(\"Enter a positive number: \"))\n",
        "    if number <= 0:\n",
        "        print(\"That's not a positive number. Try again.\")\n",
        "\n",
        "print(\"You entered a valid positive number:\", number)\n",
        "\n",
        "Here, the while loop keeps asking for input until the user provides a positive number. Since the number of attempts is unknown, a while loop is better than a for loop in this case.\n",
        "\n",
        "Practical\n",
        "\n",
        "1-Write a python programme to print \"Hello,world!'\n",
        "\n",
        "\n",
        "\n",
        "\n",
        "\n",
        "\n",
        "\n",
        "\n",
        "\n",
        "\n",
        "\n",
        "\n",
        "\n",
        "\n",
        "\n",
        "\n",
        "\n",
        "\n",
        "\n",
        "\n",
        "\n"
      ],
      "metadata": {
        "id": "dWhIbWccA5Ts"
      }
    },
    {
      "cell_type": "code",
      "source": [
        "print(\"Hello, world!\")\n"
      ],
      "metadata": {
        "colab": {
          "base_uri": "https://localhost:8080/"
        },
        "id": "jOu64UC6IkuX",
        "outputId": "0362c4d2-4fa5-4500-9034-2a69f6e06752"
      },
      "execution_count": 1,
      "outputs": [
        {
          "output_type": "stream",
          "name": "stdout",
          "text": [
            "Hello, world!\n"
          ]
        }
      ]
    },
    {
      "cell_type": "markdown",
      "source": [],
      "metadata": {
        "id": "rDNGBps8IvDn"
      }
    },
    {
      "cell_type": "code",
      "source": [],
      "metadata": {
        "id": "hvGJGLSIIK7_"
      },
      "execution_count": null,
      "outputs": []
    },
    {
      "cell_type": "markdown",
      "source": [
        "Write a python programme that displays your name and age"
      ],
      "metadata": {
        "id": "igMk8OIYI6F3"
      }
    },
    {
      "cell_type": "code",
      "source": [
        "name=\"Banshi\"\n",
        "age=\"38\"\n",
        "print(\"name:\",name)\n",
        "print(\"age:\",age)"
      ],
      "metadata": {
        "colab": {
          "base_uri": "https://localhost:8080/"
        },
        "id": "fll8J-oBIFxR",
        "outputId": "90c7e596-8a9c-4c3b-b89b-e8823a9d5355"
      },
      "execution_count": 2,
      "outputs": [
        {
          "output_type": "stream",
          "name": "stdout",
          "text": [
            "name: Banshi\n",
            "age: 38\n"
          ]
        }
      ]
    },
    {
      "cell_type": "markdown",
      "source": [
        "Write code to print all the pre define keywords in python using the keyword library.\n"
      ],
      "metadata": {
        "id": "LO0sCkyQJ_PM"
      }
    },
    {
      "cell_type": "markdown",
      "source": [
        "Write a programme that checks if a given word is  a python keyword.\n"
      ],
      "metadata": {
        "id": "TRxlEXiyLR2U"
      }
    },
    {
      "cell_type": "code",
      "source": [
        "word = input(\"Enter a word to check if it's a Python keyword: \")\n"
      ],
      "metadata": {
        "id": "4nzVQIZTMhVy"
      },
      "execution_count": null,
      "outputs": []
    },
    {
      "cell_type": "markdown",
      "source": [
        "Create a list of tuple and list in python and demonstrate how attempting to change an element works differently for each.\n"
      ],
      "metadata": {
        "id": "oeTLOrt2Mk2h"
      }
    },
    {
      "cell_type": "code",
      "source": [
        "# List of strings\n",
        "my_list = [\"apple\", \"banana\", \"cherry\"]\n",
        "\n",
        "# Tuple of strings\n",
        "my_tuple = (\"apple\", \"banana\", \"cherry\")\n",
        "\n",
        "# Attempt to change an element in the list\n",
        "my_list[1] = \"blueberry\"\n",
        "print(\"Modified list:\", my_list)\n",
        "\n",
        "# Attempt to change an element in the tuple (this will raise an error)\n",
        "try:\n",
        "    my_tuple[1] = \"blueberry\"\n",
        "except TypeError as e:\n",
        "    print(\"Error while changing tuple:\", e)\n"
      ],
      "metadata": {
        "id": "sk4vaGiFNQPo"
      },
      "execution_count": null,
      "outputs": []
    },
    {
      "cell_type": "code",
      "source": [],
      "metadata": {
        "id": "wujgTpp8NYhQ"
      },
      "execution_count": null,
      "outputs": []
    },
    {
      "cell_type": "markdown",
      "source": [
        "Write a function to demonstarte the behaviour of mutable and immutable arguments.\n"
      ],
      "metadata": {
        "id": "CnUIX0FSNZGI"
      }
    },
    {
      "cell_type": "code",
      "source": [
        "# Function to demonstrate mutable and immutable arguments\n",
        "def update_data(mutable_arg, immutable_arg):\n",
        "    print(\"Before modification inside function:\")\n",
        "    print(\"Mutable argument:\", mutable_arg)\n",
        "    print(\"Immutable argument:\", immutable_arg)\n",
        "\n",
        "    # Modifying the mutable argument (dictionary)\n",
        "    mutable_arg[\"key\"] = \"updated value\"\n",
        "\n",
        "    # Modifying the immutable argument (tuple)\n",
        "    immutable_arg = (5, 6)\n",
        "\n",
        "    print(\"\\nAfter modification inside function:\")\n",
        "    print(\"Mutable argument:\", mutable_arg)  # Dictionary will be modified\n",
        "    print(\"Immutable argument:\", immutable_arg)  # Tuple re-assignment doesn't affect original\n",
        "\n",
        "# Main code to test the function\n",
        "my_dict = {\"key\": \"original value\"}\n",
        "my_tuple = (1, 2, 3)\n",
        "\n",
        "update_data(my_dict, my_tuple)\n",
        "\n",
        "print(\"\\nAfter function call:\")\n",
        "print(\"Original mutable argument:\", my_dict)  # Dictionary is modified\n",
        "print(\"Original immutable argument:\", my_tuple)  # Tuple remains unchanged\n"
      ],
      "metadata": {
        "id": "YV5YG6nSN4LR"
      },
      "execution_count": null,
      "outputs": []
    },
    {
      "cell_type": "markdown",
      "source": [
        "Write a programme to demonstrate the use of logical operator.\n"
      ],
      "metadata": {
        "id": "ESjCVEosN63H"
      }
    },
    {
      "cell_type": "code",
      "source": [
        "# Program to demonstrate the use of logical operators\n",
        "\n",
        "# Example variables\n",
        "age = 25\n",
        "has_license = True\n",
        "is_student = False\n",
        "\n",
        "# Logical AND: True if both conditions are True\n",
        "if age > 18 and has_license:\n",
        "    print(\"You are eligible to drive: Age > 18 and have a license.\")\n",
        "\n",
        "# Logical OR: True if at least one condition is True\n",
        "if age > 18 or is_student:\n",
        "    print(\"You are either an adult or a student.\")\n",
        "\n",
        "# Logical NOT: Reverses the boolean value\n",
        "if not is_student:\n",
        "    print(\"You are not a student.\")\n",
        "\n",
        "# Combining all logical operators\n",
        "if age > 18 and not is_student:\n",
        "    print(\"You are an adult and not a student.\")\n"
      ],
      "metadata": {
        "id": "w65mYtWROQ6M"
      },
      "execution_count": null,
      "outputs": []
    },
    {
      "cell_type": "markdown",
      "source": [
        "Write a python programme to convert user input from string to integer float and boolean types\n"
      ],
      "metadata": {
        "id": "bFUrLxhlOSS4"
      }
    },
    {
      "cell_type": "code",
      "source": [
        "# Program to convert user input to different types\n",
        "\n",
        "# Get user input as a string\n",
        "user_input = input(\"Enter a value: \")\n",
        "\n",
        "# Convert the input to an integer\n",
        "if user_input.isdigit():  # Check if the input is a valid integer\n",
        "    user_input_int = int(user_input)\n",
        "    print(\"Converted to integer:\", user_input_int)\n",
        "else:\n",
        "    print(\"Cannot convert to integer\")\n",
        "\n",
        "# Convert the input to a float\n",
        "try:\n",
        "    user_input_float = float(user_input)\n",
        "    print(\"Converted to float:\", user_input_float)\n",
        "except ValueError:\n",
        "    print(\"Cannot convert to float\")\n",
        "\n",
        "# Convert the input to a boolean\n",
        "# Any non-empty string is considered True, empty string is considered False\n",
        "user_input_bool = user_input.lower() in ['true', '1', 'yes', 'y']\n",
        "print(\"Converted to boolean:\", user_input_bool)\n"
      ],
      "metadata": {
        "id": "3zeUUp32O7EX"
      },
      "execution_count": null,
      "outputs": []
    },
    {
      "cell_type": "markdown",
      "source": [
        "Write code to demonstrate type casting with list elements.\n"
      ],
      "metadata": {
        "id": "gBjHxsdxO-xu"
      }
    },
    {
      "cell_type": "code",
      "source": [
        "# Original list of mixed data types\n",
        "mixed_list = [\"True\", 34, 56.78, \"100\", False]\n",
        "\n",
        "# Convert to integers\n",
        "int_list = [int(float(i)) if isinstance(i, (str, float, bool)) else i for i in mixed_list]\n",
        "\n",
        "# Convert to floats\n",
        "float_list = [float(i) if isinstance(i, (str, int, bool)) else i for i in mixed_list]\n",
        "\n",
        "# Convert to booleans\n",
        "bool_list = [bool(i) for i in mixed_list]\n",
        "\n",
        "# Convert to strings\n",
        "str_list = [str(i) for i in mixed_list]\n",
        "\n",
        "# Display results\n",
        "print(\"Integers:\", int_list)\n",
        "print(\"Floats:\", float_list)\n",
        "print(\"Booleans:\", bool_list)\n",
        "print(\"Strings:\", str_list)\n",
        "\n"
      ],
      "metadata": {
        "id": "vvF4TYG2PaPA"
      },
      "execution_count": null,
      "outputs": []
    },
    {
      "cell_type": "markdown",
      "source": [
        "Write a programme that checks the number is positive,negetive or zero.\n",
        "\n"
      ],
      "metadata": {
        "id": "e2XIQe-RPfhb"
      }
    },
    {
      "cell_type": "code",
      "source": [
        "\n",
        "number = float(input(\"Enter a number: \"))\n",
        "\n",
        "if number > 0:\n",
        "    print(\"The number is positive.\")\n",
        "elif number < 0:\n",
        "    print(\"The number is negative.\")\n",
        "else:\n",
        "    print(\"The number is zero.\")\n"
      ],
      "metadata": {
        "id": "zZS8Lz1PPza_"
      },
      "execution_count": null,
      "outputs": []
    },
    {
      "cell_type": "markdown",
      "source": [
        "Write a for loop to print numbers from 1 to 10\n",
        "\n"
      ],
      "metadata": {
        "id": "wFfTMXI_P42H"
      }
    },
    {
      "cell_type": "code",
      "source": [
        "# Using a for loop to print numbers from 1 to 10\n",
        "for number in range(1, 11):\n",
        "    print(number)\n",
        "\n"
      ],
      "metadata": {
        "id": "7ws811IvQIJG"
      },
      "execution_count": null,
      "outputs": []
    },
    {
      "cell_type": "markdown",
      "source": [
        "Write a python programme to find the sum of all even numebers between 1 to 50\n",
        "\n"
      ],
      "metadata": {
        "id": "u06vPDgRQKUP"
      }
    },
    {
      "cell_type": "code",
      "source": [
        "\n",
        "sum_of_evens = 0\n",
        "\n",
        "for number in range(1, 51):\n",
        "    if number % 2 == 0:\n",
        "        sum_of_evens += number\n",
        "print(\"The sum of all even numbers between 1 and 50 is:\", sum_of_evens)\n",
        "\n",
        "\n"
      ],
      "metadata": {
        "id": "id4_7rCDQfqO"
      },
      "execution_count": null,
      "outputs": []
    },
    {
      "cell_type": "markdown",
      "source": [
        "Write a programme to reverse a string using while loop.\n",
        "\n",
        "\n"
      ],
      "metadata": {
        "id": "9evI-LfjQqvk"
      }
    },
    {
      "cell_type": "code",
      "source": [
        "# Input string from user\n",
        "user_string = input(\"Enter a string: \")\n",
        "\n",
        "# Initialize a variable to hold the reversed string\n",
        "reversed_string = \"\"\n",
        "\n",
        "# Set an index to the last character of the string\n",
        "index = len(user_string) - 1\n",
        "\n",
        "# Use a while loop to reverse the string\n",
        "while index >= 0:\n",
        "    reversed_string += user_string[index]\n",
        "    index -= 1\n",
        "\n",
        "# Print the reversed string\n",
        "print(\"Reversed string:\", reversed_string)\n",
        "\n",
        "\n"
      ],
      "metadata": {
        "id": "GMg7L5YDRADA"
      },
      "execution_count": null,
      "outputs": []
    },
    {
      "cell_type": "markdown",
      "source": [
        "Write a python programme to calculate thefactorial of a number provided by the user using a while loop.\n",
        "\n",
        "\n"
      ],
      "metadata": {
        "id": "d7HkxuzORDT_"
      }
    },
    {
      "cell_type": "code",
      "source": [
        "# Get user input\n",
        "num = int(input(\"Enter a number: \"))\n",
        "\n",
        "# Initialize the factorial variable\n",
        "factorial = 1\n",
        "\n",
        "# Check if the number is negative, as factorial is not defined for negative numbers\n",
        "if num < 0:\n",
        "    print(\"Factorial does not exist for negative numbers.\")\n",
        "else:\n",
        "    # Calculate factorial using a while loop\n",
        "    while num > 1:\n",
        "        factorial *= num\n",
        "        num -= 1\n",
        "\n",
        "    # Print the calculated factorial\n",
        "    print(\"The factorial is:\", factorial)\n"
      ],
      "metadata": {
        "id": "0UVpOlUKRhkO"
      },
      "execution_count": null,
      "outputs": []
    }
  ]
}